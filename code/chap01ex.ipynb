{
  "cells": [
    {
      "cell_type": "markdown",
      "metadata": {
        "id": "N1Mr7Jd992-W"
      },
      "source": [
        "# Chapter 1\n",
        "\n",
        "Examples and Exercises from Think Stats, 2nd Edition\n",
        "\n",
        "http://thinkstats2.com\n",
        "\n",
        "Copyright 2016 Allen B. Downey\n",
        "\n",
        "MIT License: https://opensource.org/licenses/MIT\n"
      ]
    },
    {
      "cell_type": "code",
      "execution_count": 1,
      "metadata": {
        "id": "dalI18c_92-Y",
        "outputId": "ff2c5578-ee30-419e-e4e8-55ec6f193571",
        "colab": {
          "base_uri": "https://localhost:8080/"
        }
      },
      "outputs": [
        {
          "output_type": "stream",
          "name": "stdout",
          "text": [
            "Downloaded thinkstats2.py\n",
            "Downloaded thinkplot.py\n"
          ]
        }
      ],
      "source": [
        "from os.path import basename, exists\n",
        "\n",
        "\n",
        "def download(url):\n",
        "    filename = basename(url)\n",
        "    if not exists(filename):\n",
        "        from urllib.request import urlretrieve\n",
        "\n",
        "        local, _ = urlretrieve(url, filename)\n",
        "        print(\"Downloaded \" + local)\n",
        "\n",
        "\n",
        "download(\"https://github.com/AllenDowney/ThinkStats2/raw/master/code/thinkstats2.py\")\n",
        "download(\"https://github.com/AllenDowney/ThinkStats2/raw/master/code/thinkplot.py\")"
      ]
    },
    {
      "cell_type": "code",
      "execution_count": 2,
      "metadata": {
        "id": "4x_rRPLs92-Y",
        "outputId": "b3125774-f23b-4449-8e2a-09a33bc436c7",
        "colab": {
          "base_uri": "https://localhost:8080/"
        }
      },
      "outputs": [
        {
          "output_type": "stream",
          "name": "stdout",
          "text": [
            "Downloaded nsfg.py\n",
            "Downloaded 2002FemPreg.dct\n",
            "Downloaded 2002FemPreg.dat.gz\n"
          ]
        }
      ],
      "source": [
        "download(\"https://github.com/AllenDowney/ThinkStats2/raw/master/code/nsfg.py\")\n",
        "\n",
        "download(\"https://github.com/AllenDowney/ThinkStats2/raw/master/code/2002FemPreg.dct\")\n",
        "download(\n",
        "    \"https://github.com/AllenDowney/ThinkStats2/raw/master/code/2002FemPreg.dat.gz\"\n",
        ")"
      ]
    },
    {
      "cell_type": "markdown",
      "metadata": {
        "id": "L4kWAtKa92-Y"
      },
      "source": [
        "## Examples from Chapter 1\n",
        "\n",
        "Read NSFG data into a Pandas DataFrame."
      ]
    },
    {
      "cell_type": "code",
      "execution_count": 3,
      "metadata": {
        "id": "lSgeTBHl92-Z"
      },
      "outputs": [],
      "source": [
        "import nsfg"
      ]
    },
    {
      "cell_type": "code",
      "execution_count": 4,
      "metadata": {
        "id": "IEjVR91H92-Z",
        "outputId": "df711d35-7638-4443-f49d-7db01a7b8342",
        "colab": {
          "base_uri": "https://localhost:8080/",
          "height": 256
        }
      },
      "outputs": [
        {
          "output_type": "execute_result",
          "data": {
            "text/plain": [
              "   caseid  pregordr  howpreg_n  howpreg_p  moscurrp  nowprgdk  pregend1  \\\n",
              "0       1         1        NaN        NaN       NaN       NaN       6.0   \n",
              "1       1         2        NaN        NaN       NaN       NaN       6.0   \n",
              "2       2         1        NaN        NaN       NaN       NaN       5.0   \n",
              "3       2         2        NaN        NaN       NaN       NaN       6.0   \n",
              "4       2         3        NaN        NaN       NaN       NaN       6.0   \n",
              "\n",
              "   pregend2  nbrnaliv  multbrth  ...  laborfor_i  religion_i  metro_i  \\\n",
              "0       NaN       1.0       NaN  ...           0           0        0   \n",
              "1       NaN       1.0       NaN  ...           0           0        0   \n",
              "2       NaN       3.0       5.0  ...           0           0        0   \n",
              "3       NaN       1.0       NaN  ...           0           0        0   \n",
              "4       NaN       1.0       NaN  ...           0           0        0   \n",
              "\n",
              "       basewgt  adj_mod_basewgt      finalwgt  secu_p  sest  cmintvw  \\\n",
              "0  3410.389399      3869.349602   6448.271112       2     9      NaN   \n",
              "1  3410.389399      3869.349602   6448.271112       2     9      NaN   \n",
              "2  7226.301740      8567.549110  12999.542264       2    12      NaN   \n",
              "3  7226.301740      8567.549110  12999.542264       2    12      NaN   \n",
              "4  7226.301740      8567.549110  12999.542264       2    12      NaN   \n",
              "\n",
              "   totalwgt_lb  \n",
              "0       8.8125  \n",
              "1       7.8750  \n",
              "2       9.1250  \n",
              "3       7.0000  \n",
              "4       6.1875  \n",
              "\n",
              "[5 rows x 244 columns]"
            ],
            "text/html": [
              "\n",
              "  <div id=\"df-6e451c41-327f-482c-9c7e-0df0e73960af\" class=\"colab-df-container\">\n",
              "    <div>\n",
              "<style scoped>\n",
              "    .dataframe tbody tr th:only-of-type {\n",
              "        vertical-align: middle;\n",
              "    }\n",
              "\n",
              "    .dataframe tbody tr th {\n",
              "        vertical-align: top;\n",
              "    }\n",
              "\n",
              "    .dataframe thead th {\n",
              "        text-align: right;\n",
              "    }\n",
              "</style>\n",
              "<table border=\"1\" class=\"dataframe\">\n",
              "  <thead>\n",
              "    <tr style=\"text-align: right;\">\n",
              "      <th></th>\n",
              "      <th>caseid</th>\n",
              "      <th>pregordr</th>\n",
              "      <th>howpreg_n</th>\n",
              "      <th>howpreg_p</th>\n",
              "      <th>moscurrp</th>\n",
              "      <th>nowprgdk</th>\n",
              "      <th>pregend1</th>\n",
              "      <th>pregend2</th>\n",
              "      <th>nbrnaliv</th>\n",
              "      <th>multbrth</th>\n",
              "      <th>...</th>\n",
              "      <th>laborfor_i</th>\n",
              "      <th>religion_i</th>\n",
              "      <th>metro_i</th>\n",
              "      <th>basewgt</th>\n",
              "      <th>adj_mod_basewgt</th>\n",
              "      <th>finalwgt</th>\n",
              "      <th>secu_p</th>\n",
              "      <th>sest</th>\n",
              "      <th>cmintvw</th>\n",
              "      <th>totalwgt_lb</th>\n",
              "    </tr>\n",
              "  </thead>\n",
              "  <tbody>\n",
              "    <tr>\n",
              "      <th>0</th>\n",
              "      <td>1</td>\n",
              "      <td>1</td>\n",
              "      <td>NaN</td>\n",
              "      <td>NaN</td>\n",
              "      <td>NaN</td>\n",
              "      <td>NaN</td>\n",
              "      <td>6.0</td>\n",
              "      <td>NaN</td>\n",
              "      <td>1.0</td>\n",
              "      <td>NaN</td>\n",
              "      <td>...</td>\n",
              "      <td>0</td>\n",
              "      <td>0</td>\n",
              "      <td>0</td>\n",
              "      <td>3410.389399</td>\n",
              "      <td>3869.349602</td>\n",
              "      <td>6448.271112</td>\n",
              "      <td>2</td>\n",
              "      <td>9</td>\n",
              "      <td>NaN</td>\n",
              "      <td>8.8125</td>\n",
              "    </tr>\n",
              "    <tr>\n",
              "      <th>1</th>\n",
              "      <td>1</td>\n",
              "      <td>2</td>\n",
              "      <td>NaN</td>\n",
              "      <td>NaN</td>\n",
              "      <td>NaN</td>\n",
              "      <td>NaN</td>\n",
              "      <td>6.0</td>\n",
              "      <td>NaN</td>\n",
              "      <td>1.0</td>\n",
              "      <td>NaN</td>\n",
              "      <td>...</td>\n",
              "      <td>0</td>\n",
              "      <td>0</td>\n",
              "      <td>0</td>\n",
              "      <td>3410.389399</td>\n",
              "      <td>3869.349602</td>\n",
              "      <td>6448.271112</td>\n",
              "      <td>2</td>\n",
              "      <td>9</td>\n",
              "      <td>NaN</td>\n",
              "      <td>7.8750</td>\n",
              "    </tr>\n",
              "    <tr>\n",
              "      <th>2</th>\n",
              "      <td>2</td>\n",
              "      <td>1</td>\n",
              "      <td>NaN</td>\n",
              "      <td>NaN</td>\n",
              "      <td>NaN</td>\n",
              "      <td>NaN</td>\n",
              "      <td>5.0</td>\n",
              "      <td>NaN</td>\n",
              "      <td>3.0</td>\n",
              "      <td>5.0</td>\n",
              "      <td>...</td>\n",
              "      <td>0</td>\n",
              "      <td>0</td>\n",
              "      <td>0</td>\n",
              "      <td>7226.301740</td>\n",
              "      <td>8567.549110</td>\n",
              "      <td>12999.542264</td>\n",
              "      <td>2</td>\n",
              "      <td>12</td>\n",
              "      <td>NaN</td>\n",
              "      <td>9.1250</td>\n",
              "    </tr>\n",
              "    <tr>\n",
              "      <th>3</th>\n",
              "      <td>2</td>\n",
              "      <td>2</td>\n",
              "      <td>NaN</td>\n",
              "      <td>NaN</td>\n",
              "      <td>NaN</td>\n",
              "      <td>NaN</td>\n",
              "      <td>6.0</td>\n",
              "      <td>NaN</td>\n",
              "      <td>1.0</td>\n",
              "      <td>NaN</td>\n",
              "      <td>...</td>\n",
              "      <td>0</td>\n",
              "      <td>0</td>\n",
              "      <td>0</td>\n",
              "      <td>7226.301740</td>\n",
              "      <td>8567.549110</td>\n",
              "      <td>12999.542264</td>\n",
              "      <td>2</td>\n",
              "      <td>12</td>\n",
              "      <td>NaN</td>\n",
              "      <td>7.0000</td>\n",
              "    </tr>\n",
              "    <tr>\n",
              "      <th>4</th>\n",
              "      <td>2</td>\n",
              "      <td>3</td>\n",
              "      <td>NaN</td>\n",
              "      <td>NaN</td>\n",
              "      <td>NaN</td>\n",
              "      <td>NaN</td>\n",
              "      <td>6.0</td>\n",
              "      <td>NaN</td>\n",
              "      <td>1.0</td>\n",
              "      <td>NaN</td>\n",
              "      <td>...</td>\n",
              "      <td>0</td>\n",
              "      <td>0</td>\n",
              "      <td>0</td>\n",
              "      <td>7226.301740</td>\n",
              "      <td>8567.549110</td>\n",
              "      <td>12999.542264</td>\n",
              "      <td>2</td>\n",
              "      <td>12</td>\n",
              "      <td>NaN</td>\n",
              "      <td>6.1875</td>\n",
              "    </tr>\n",
              "  </tbody>\n",
              "</table>\n",
              "<p>5 rows × 244 columns</p>\n",
              "</div>\n",
              "    <div class=\"colab-df-buttons\">\n",
              "\n",
              "  <div class=\"colab-df-container\">\n",
              "    <button class=\"colab-df-convert\" onclick=\"convertToInteractive('df-6e451c41-327f-482c-9c7e-0df0e73960af')\"\n",
              "            title=\"Convert this dataframe to an interactive table.\"\n",
              "            style=\"display:none;\">\n",
              "\n",
              "  <svg xmlns=\"http://www.w3.org/2000/svg\" height=\"24px\" viewBox=\"0 -960 960 960\">\n",
              "    <path d=\"M120-120v-720h720v720H120Zm60-500h600v-160H180v160Zm220 220h160v-160H400v160Zm0 220h160v-160H400v160ZM180-400h160v-160H180v160Zm440 0h160v-160H620v160ZM180-180h160v-160H180v160Zm440 0h160v-160H620v160Z\"/>\n",
              "  </svg>\n",
              "    </button>\n",
              "\n",
              "  <style>\n",
              "    .colab-df-container {\n",
              "      display:flex;\n",
              "      gap: 12px;\n",
              "    }\n",
              "\n",
              "    .colab-df-convert {\n",
              "      background-color: #E8F0FE;\n",
              "      border: none;\n",
              "      border-radius: 50%;\n",
              "      cursor: pointer;\n",
              "      display: none;\n",
              "      fill: #1967D2;\n",
              "      height: 32px;\n",
              "      padding: 0 0 0 0;\n",
              "      width: 32px;\n",
              "    }\n",
              "\n",
              "    .colab-df-convert:hover {\n",
              "      background-color: #E2EBFA;\n",
              "      box-shadow: 0px 1px 2px rgba(60, 64, 67, 0.3), 0px 1px 3px 1px rgba(60, 64, 67, 0.15);\n",
              "      fill: #174EA6;\n",
              "    }\n",
              "\n",
              "    .colab-df-buttons div {\n",
              "      margin-bottom: 4px;\n",
              "    }\n",
              "\n",
              "    [theme=dark] .colab-df-convert {\n",
              "      background-color: #3B4455;\n",
              "      fill: #D2E3FC;\n",
              "    }\n",
              "\n",
              "    [theme=dark] .colab-df-convert:hover {\n",
              "      background-color: #434B5C;\n",
              "      box-shadow: 0px 1px 3px 1px rgba(0, 0, 0, 0.15);\n",
              "      filter: drop-shadow(0px 1px 2px rgba(0, 0, 0, 0.3));\n",
              "      fill: #FFFFFF;\n",
              "    }\n",
              "  </style>\n",
              "\n",
              "    <script>\n",
              "      const buttonEl =\n",
              "        document.querySelector('#df-6e451c41-327f-482c-9c7e-0df0e73960af button.colab-df-convert');\n",
              "      buttonEl.style.display =\n",
              "        google.colab.kernel.accessAllowed ? 'block' : 'none';\n",
              "\n",
              "      async function convertToInteractive(key) {\n",
              "        const element = document.querySelector('#df-6e451c41-327f-482c-9c7e-0df0e73960af');\n",
              "        const dataTable =\n",
              "          await google.colab.kernel.invokeFunction('convertToInteractive',\n",
              "                                                    [key], {});\n",
              "        if (!dataTable) return;\n",
              "\n",
              "        const docLinkHtml = 'Like what you see? Visit the ' +\n",
              "          '<a target=\"_blank\" href=https://colab.research.google.com/notebooks/data_table.ipynb>data table notebook</a>'\n",
              "          + ' to learn more about interactive tables.';\n",
              "        element.innerHTML = '';\n",
              "        dataTable['output_type'] = 'display_data';\n",
              "        await google.colab.output.renderOutput(dataTable, element);\n",
              "        const docLink = document.createElement('div');\n",
              "        docLink.innerHTML = docLinkHtml;\n",
              "        element.appendChild(docLink);\n",
              "      }\n",
              "    </script>\n",
              "  </div>\n",
              "\n",
              "\n",
              "<div id=\"df-6ead1064-9b7e-4bd1-89ea-900095dc7b9e\">\n",
              "  <button class=\"colab-df-quickchart\" onclick=\"quickchart('df-6ead1064-9b7e-4bd1-89ea-900095dc7b9e')\"\n",
              "            title=\"Suggest charts\"\n",
              "            style=\"display:none;\">\n",
              "\n",
              "<svg xmlns=\"http://www.w3.org/2000/svg\" height=\"24px\"viewBox=\"0 0 24 24\"\n",
              "     width=\"24px\">\n",
              "    <g>\n",
              "        <path d=\"M19 3H5c-1.1 0-2 .9-2 2v14c0 1.1.9 2 2 2h14c1.1 0 2-.9 2-2V5c0-1.1-.9-2-2-2zM9 17H7v-7h2v7zm4 0h-2V7h2v10zm4 0h-2v-4h2v4z\"/>\n",
              "    </g>\n",
              "</svg>\n",
              "  </button>\n",
              "\n",
              "<style>\n",
              "  .colab-df-quickchart {\n",
              "      --bg-color: #E8F0FE;\n",
              "      --fill-color: #1967D2;\n",
              "      --hover-bg-color: #E2EBFA;\n",
              "      --hover-fill-color: #174EA6;\n",
              "      --disabled-fill-color: #AAA;\n",
              "      --disabled-bg-color: #DDD;\n",
              "  }\n",
              "\n",
              "  [theme=dark] .colab-df-quickchart {\n",
              "      --bg-color: #3B4455;\n",
              "      --fill-color: #D2E3FC;\n",
              "      --hover-bg-color: #434B5C;\n",
              "      --hover-fill-color: #FFFFFF;\n",
              "      --disabled-bg-color: #3B4455;\n",
              "      --disabled-fill-color: #666;\n",
              "  }\n",
              "\n",
              "  .colab-df-quickchart {\n",
              "    background-color: var(--bg-color);\n",
              "    border: none;\n",
              "    border-radius: 50%;\n",
              "    cursor: pointer;\n",
              "    display: none;\n",
              "    fill: var(--fill-color);\n",
              "    height: 32px;\n",
              "    padding: 0;\n",
              "    width: 32px;\n",
              "  }\n",
              "\n",
              "  .colab-df-quickchart:hover {\n",
              "    background-color: var(--hover-bg-color);\n",
              "    box-shadow: 0 1px 2px rgba(60, 64, 67, 0.3), 0 1px 3px 1px rgba(60, 64, 67, 0.15);\n",
              "    fill: var(--button-hover-fill-color);\n",
              "  }\n",
              "\n",
              "  .colab-df-quickchart-complete:disabled,\n",
              "  .colab-df-quickchart-complete:disabled:hover {\n",
              "    background-color: var(--disabled-bg-color);\n",
              "    fill: var(--disabled-fill-color);\n",
              "    box-shadow: none;\n",
              "  }\n",
              "\n",
              "  .colab-df-spinner {\n",
              "    border: 2px solid var(--fill-color);\n",
              "    border-color: transparent;\n",
              "    border-bottom-color: var(--fill-color);\n",
              "    animation:\n",
              "      spin 1s steps(1) infinite;\n",
              "  }\n",
              "\n",
              "  @keyframes spin {\n",
              "    0% {\n",
              "      border-color: transparent;\n",
              "      border-bottom-color: var(--fill-color);\n",
              "      border-left-color: var(--fill-color);\n",
              "    }\n",
              "    20% {\n",
              "      border-color: transparent;\n",
              "      border-left-color: var(--fill-color);\n",
              "      border-top-color: var(--fill-color);\n",
              "    }\n",
              "    30% {\n",
              "      border-color: transparent;\n",
              "      border-left-color: var(--fill-color);\n",
              "      border-top-color: var(--fill-color);\n",
              "      border-right-color: var(--fill-color);\n",
              "    }\n",
              "    40% {\n",
              "      border-color: transparent;\n",
              "      border-right-color: var(--fill-color);\n",
              "      border-top-color: var(--fill-color);\n",
              "    }\n",
              "    60% {\n",
              "      border-color: transparent;\n",
              "      border-right-color: var(--fill-color);\n",
              "    }\n",
              "    80% {\n",
              "      border-color: transparent;\n",
              "      border-right-color: var(--fill-color);\n",
              "      border-bottom-color: var(--fill-color);\n",
              "    }\n",
              "    90% {\n",
              "      border-color: transparent;\n",
              "      border-bottom-color: var(--fill-color);\n",
              "    }\n",
              "  }\n",
              "</style>\n",
              "\n",
              "  <script>\n",
              "    async function quickchart(key) {\n",
              "      const quickchartButtonEl =\n",
              "        document.querySelector('#' + key + ' button');\n",
              "      quickchartButtonEl.disabled = true;  // To prevent multiple clicks.\n",
              "      quickchartButtonEl.classList.add('colab-df-spinner');\n",
              "      try {\n",
              "        const charts = await google.colab.kernel.invokeFunction(\n",
              "            'suggestCharts', [key], {});\n",
              "      } catch (error) {\n",
              "        console.error('Error during call to suggestCharts:', error);\n",
              "      }\n",
              "      quickchartButtonEl.classList.remove('colab-df-spinner');\n",
              "      quickchartButtonEl.classList.add('colab-df-quickchart-complete');\n",
              "    }\n",
              "    (() => {\n",
              "      let quickchartButtonEl =\n",
              "        document.querySelector('#df-6ead1064-9b7e-4bd1-89ea-900095dc7b9e button');\n",
              "      quickchartButtonEl.style.display =\n",
              "        google.colab.kernel.accessAllowed ? 'block' : 'none';\n",
              "    })();\n",
              "  </script>\n",
              "</div>\n",
              "\n",
              "    </div>\n",
              "  </div>\n"
            ],
            "application/vnd.google.colaboratory.intrinsic+json": {
              "type": "dataframe",
              "variable_name": "preg"
            }
          },
          "metadata": {},
          "execution_count": 4
        }
      ],
      "source": [
        "preg = nsfg.ReadFemPreg()\n",
        "preg.head()"
      ]
    },
    {
      "cell_type": "markdown",
      "metadata": {
        "id": "H7zbVGgV92-Z"
      },
      "source": [
        "Print the column names."
      ]
    },
    {
      "cell_type": "code",
      "execution_count": 5,
      "metadata": {
        "id": "0Lg73CHM92-Z",
        "outputId": "7d6149d8-2eab-4b46-9e71-d4b9ceba8e53",
        "colab": {
          "base_uri": "https://localhost:8080/"
        }
      },
      "outputs": [
        {
          "output_type": "execute_result",
          "data": {
            "text/plain": [
              "Index(['caseid', 'pregordr', 'howpreg_n', 'howpreg_p', 'moscurrp', 'nowprgdk',\n",
              "       'pregend1', 'pregend2', 'nbrnaliv', 'multbrth',\n",
              "       ...\n",
              "       'laborfor_i', 'religion_i', 'metro_i', 'basewgt', 'adj_mod_basewgt',\n",
              "       'finalwgt', 'secu_p', 'sest', 'cmintvw', 'totalwgt_lb'],\n",
              "      dtype='object', length=244)"
            ]
          },
          "metadata": {},
          "execution_count": 5
        }
      ],
      "source": [
        "preg.columns"
      ]
    },
    {
      "cell_type": "markdown",
      "metadata": {
        "id": "qA5T48Ix92-Z"
      },
      "source": [
        "Select a single column name."
      ]
    },
    {
      "cell_type": "code",
      "execution_count": 6,
      "metadata": {
        "id": "S4L2PZi192-Z",
        "outputId": "f39bc127-129e-4eea-a777-b48038e376bc",
        "colab": {
          "base_uri": "https://localhost:8080/",
          "height": 35
        }
      },
      "outputs": [
        {
          "output_type": "execute_result",
          "data": {
            "text/plain": [
              "'pregordr'"
            ],
            "application/vnd.google.colaboratory.intrinsic+json": {
              "type": "string"
            }
          },
          "metadata": {},
          "execution_count": 6
        }
      ],
      "source": [
        "preg.columns[1]"
      ]
    },
    {
      "cell_type": "markdown",
      "metadata": {
        "id": "BEkI-HH892-Z"
      },
      "source": [
        "Select a column and check what type it is."
      ]
    },
    {
      "cell_type": "code",
      "execution_count": 7,
      "metadata": {
        "id": "Y4t8_cN-92-Z",
        "outputId": "ec8efc3a-99b6-40bd-efc6-387aba3c10ec",
        "colab": {
          "base_uri": "https://localhost:8080/",
          "height": 204
        }
      },
      "outputs": [
        {
          "output_type": "execute_result",
          "data": {
            "text/plain": [
              "pandas.core.series.Series"
            ],
            "text/html": [
              "<div style=\"max-width:800px; border: 1px solid var(--colab-border-color);\"><style>\n",
              "      pre.function-repr-contents {\n",
              "        overflow-x: auto;\n",
              "        padding: 8px 12px;\n",
              "        max-height: 500px;\n",
              "      }\n",
              "\n",
              "      pre.function-repr-contents.function-repr-contents-collapsed {\n",
              "        cursor: pointer;\n",
              "        max-height: 100px;\n",
              "      }\n",
              "    </style>\n",
              "    <pre style=\"white-space: initial; background:\n",
              "         var(--colab-secondary-surface-color); padding: 8px 12px;\n",
              "         border-bottom: 1px solid var(--colab-border-color);\"><b>pandas.core.series.Series</b><br/>def __init__(data=None, index=None, dtype: Dtype | None=None, name=None, copy: bool=False, fastpath: bool=False) -&gt; None</pre><pre class=\"function-repr-contents function-repr-contents-collapsed\" style=\"\"><a class=\"filepath\" style=\"display:none\" href=\"#\">/usr/local/lib/python3.10/dist-packages/pandas/core/series.py</a>One-dimensional ndarray with axis labels (including time series).\n",
              "\n",
              "Labels need not be unique but must be a hashable type. The object\n",
              "supports both integer- and label-based indexing and provides a host of\n",
              "methods for performing operations involving the index. Statistical\n",
              "methods from ndarray have been overridden to automatically exclude\n",
              "missing data (currently represented as NaN).\n",
              "\n",
              "Operations between Series (+, -, /, \\*, \\*\\*) align values based on their\n",
              "associated index values-- they need not be the same length. The result\n",
              "index will be the sorted union of the two indexes.\n",
              "\n",
              "Parameters\n",
              "----------\n",
              "data : array-like, Iterable, dict, or scalar value\n",
              "    Contains data stored in Series. If data is a dict, argument order is\n",
              "    maintained.\n",
              "index : array-like or Index (1d)\n",
              "    Values must be hashable and have the same length as `data`.\n",
              "    Non-unique index values are allowed. Will default to\n",
              "    RangeIndex (0, 1, 2, ..., n) if not provided. If data is dict-like\n",
              "    and index is None, then the keys in the data are used as the index. If the\n",
              "    index is not None, the resulting Series is reindexed with the index values.\n",
              "dtype : str, numpy.dtype, or ExtensionDtype, optional\n",
              "    Data type for the output Series. If not specified, this will be\n",
              "    inferred from `data`.\n",
              "    See the :ref:`user guide &lt;basics.dtypes&gt;` for more usages.\n",
              "name : str, optional\n",
              "    The name to give to the Series.\n",
              "copy : bool, default False\n",
              "    Copy input data. Only affects Series or 1d ndarray input. See examples.\n",
              "\n",
              "Notes\n",
              "-----\n",
              "Please reference the :ref:`User Guide &lt;basics.series&gt;` for more information.\n",
              "\n",
              "Examples\n",
              "--------\n",
              "Constructing Series from a dictionary with an Index specified\n",
              "\n",
              "&gt;&gt;&gt; d = {&#x27;a&#x27;: 1, &#x27;b&#x27;: 2, &#x27;c&#x27;: 3}\n",
              "&gt;&gt;&gt; ser = pd.Series(data=d, index=[&#x27;a&#x27;, &#x27;b&#x27;, &#x27;c&#x27;])\n",
              "&gt;&gt;&gt; ser\n",
              "a   1\n",
              "b   2\n",
              "c   3\n",
              "dtype: int64\n",
              "\n",
              "The keys of the dictionary match with the Index values, hence the Index\n",
              "values have no effect.\n",
              "\n",
              "&gt;&gt;&gt; d = {&#x27;a&#x27;: 1, &#x27;b&#x27;: 2, &#x27;c&#x27;: 3}\n",
              "&gt;&gt;&gt; ser = pd.Series(data=d, index=[&#x27;x&#x27;, &#x27;y&#x27;, &#x27;z&#x27;])\n",
              "&gt;&gt;&gt; ser\n",
              "x   NaN\n",
              "y   NaN\n",
              "z   NaN\n",
              "dtype: float64\n",
              "\n",
              "Note that the Index is first build with the keys from the dictionary.\n",
              "After this the Series is reindexed with the given Index values, hence we\n",
              "get all NaN as a result.\n",
              "\n",
              "Constructing Series from a list with `copy=False`.\n",
              "\n",
              "&gt;&gt;&gt; r = [1, 2]\n",
              "&gt;&gt;&gt; ser = pd.Series(r, copy=False)\n",
              "&gt;&gt;&gt; ser.iloc[0] = 999\n",
              "&gt;&gt;&gt; r\n",
              "[1, 2]\n",
              "&gt;&gt;&gt; ser\n",
              "0    999\n",
              "1      2\n",
              "dtype: int64\n",
              "\n",
              "Due to input data type the Series has a `copy` of\n",
              "the original data even though `copy=False`, so\n",
              "the data is unchanged.\n",
              "\n",
              "Constructing Series from a 1d ndarray with `copy=False`.\n",
              "\n",
              "&gt;&gt;&gt; r = np.array([1, 2])\n",
              "&gt;&gt;&gt; ser = pd.Series(r, copy=False)\n",
              "&gt;&gt;&gt; ser.iloc[0] = 999\n",
              "&gt;&gt;&gt; r\n",
              "array([999,   2])\n",
              "&gt;&gt;&gt; ser\n",
              "0    999\n",
              "1      2\n",
              "dtype: int64\n",
              "\n",
              "Due to input data type the Series has a `view` on\n",
              "the original data, so\n",
              "the data is changed as well.</pre>\n",
              "      <script>\n",
              "      if (google.colab.kernel.accessAllowed && google.colab.files && google.colab.files.view) {\n",
              "        for (const element of document.querySelectorAll('.filepath')) {\n",
              "          element.style.display = 'block'\n",
              "          element.onclick = (event) => {\n",
              "            event.preventDefault();\n",
              "            event.stopPropagation();\n",
              "            google.colab.files.view(element.textContent, 216);\n",
              "          };\n",
              "        }\n",
              "      }\n",
              "      for (const element of document.querySelectorAll('.function-repr-contents')) {\n",
              "        element.onclick = (event) => {\n",
              "          event.preventDefault();\n",
              "          event.stopPropagation();\n",
              "          element.classList.toggle('function-repr-contents-collapsed');\n",
              "        };\n",
              "      }\n",
              "      </script>\n",
              "      </div>"
            ]
          },
          "metadata": {},
          "execution_count": 7
        }
      ],
      "source": [
        "pregordr = preg['pregordr']\n",
        "type(pregordr)"
      ]
    },
    {
      "cell_type": "markdown",
      "metadata": {
        "id": "DDYTphiH92-a"
      },
      "source": [
        "Print a column."
      ]
    },
    {
      "cell_type": "code",
      "execution_count": 8,
      "metadata": {
        "id": "XMhqKtSG92-a",
        "outputId": "1ccf844d-727a-417e-8562-fd12cc5b8993",
        "colab": {
          "base_uri": "https://localhost:8080/"
        }
      },
      "outputs": [
        {
          "output_type": "execute_result",
          "data": {
            "text/plain": [
              "0        1\n",
              "1        2\n",
              "2        1\n",
              "3        2\n",
              "4        3\n",
              "        ..\n",
              "13588    1\n",
              "13589    2\n",
              "13590    3\n",
              "13591    4\n",
              "13592    5\n",
              "Name: pregordr, Length: 13593, dtype: int64"
            ]
          },
          "metadata": {},
          "execution_count": 8
        }
      ],
      "source": [
        "pregordr"
      ]
    },
    {
      "cell_type": "markdown",
      "metadata": {
        "id": "4eQbmj1v92-a"
      },
      "source": [
        "Select a single element from a column."
      ]
    },
    {
      "cell_type": "code",
      "execution_count": 9,
      "metadata": {
        "id": "poc1PFzu92-a",
        "outputId": "64bfbaa4-69fe-4437-fb09-7c35bfee1950",
        "colab": {
          "base_uri": "https://localhost:8080/"
        }
      },
      "outputs": [
        {
          "output_type": "execute_result",
          "data": {
            "text/plain": [
              "1"
            ]
          },
          "metadata": {},
          "execution_count": 9
        }
      ],
      "source": [
        "pregordr[0]"
      ]
    },
    {
      "cell_type": "markdown",
      "metadata": {
        "id": "KTXy7-W892-a"
      },
      "source": [
        "Select a slice from a column."
      ]
    },
    {
      "cell_type": "code",
      "execution_count": 10,
      "metadata": {
        "id": "4YXCE9kc92-a",
        "outputId": "fdaa196a-7e14-4a95-d380-89dea9b7fade",
        "colab": {
          "base_uri": "https://localhost:8080/"
        }
      },
      "outputs": [
        {
          "output_type": "execute_result",
          "data": {
            "text/plain": [
              "2    1\n",
              "3    2\n",
              "4    3\n",
              "Name: pregordr, dtype: int64"
            ]
          },
          "metadata": {},
          "execution_count": 10
        }
      ],
      "source": [
        "pregordr[2:5]"
      ]
    },
    {
      "cell_type": "markdown",
      "metadata": {
        "id": "3KfwVwAh92-a"
      },
      "source": [
        "Select a column using dot notation."
      ]
    },
    {
      "cell_type": "code",
      "execution_count": 11,
      "metadata": {
        "id": "nll_vP3a92-a"
      },
      "outputs": [],
      "source": [
        "pregordr = preg.pregordr"
      ]
    },
    {
      "cell_type": "markdown",
      "metadata": {
        "id": "N07j4MTL92-a"
      },
      "source": [
        "Count the number of times each value occurs."
      ]
    },
    {
      "cell_type": "code",
      "execution_count": 12,
      "metadata": {
        "id": "9_q8PRsf92-a",
        "outputId": "988f2534-34ff-4878-c635-766df9f68458",
        "colab": {
          "base_uri": "https://localhost:8080/"
        }
      },
      "outputs": [
        {
          "output_type": "execute_result",
          "data": {
            "text/plain": [
              "1    9148\n",
              "2    1862\n",
              "3     120\n",
              "4    1921\n",
              "5     190\n",
              "6     352\n",
              "Name: outcome, dtype: int64"
            ]
          },
          "metadata": {},
          "execution_count": 12
        }
      ],
      "source": [
        "preg.outcome.value_counts().sort_index()"
      ]
    },
    {
      "cell_type": "markdown",
      "metadata": {
        "id": "sHHrEdyB92-a"
      },
      "source": [
        "Check the values of another variable."
      ]
    },
    {
      "cell_type": "code",
      "execution_count": 13,
      "metadata": {
        "id": "RIiiyLrF92-a",
        "outputId": "d7445eb0-142d-44d5-8b9d-1c0a23c22d90",
        "colab": {
          "base_uri": "https://localhost:8080/"
        }
      },
      "outputs": [
        {
          "output_type": "execute_result",
          "data": {
            "text/plain": [
              "0.0        8\n",
              "1.0       40\n",
              "2.0       53\n",
              "3.0       98\n",
              "4.0      229\n",
              "5.0      697\n",
              "6.0     2223\n",
              "7.0     3049\n",
              "8.0     1889\n",
              "9.0      623\n",
              "10.0     132\n",
              "11.0      26\n",
              "12.0      10\n",
              "13.0       3\n",
              "14.0       3\n",
              "15.0       1\n",
              "Name: birthwgt_lb, dtype: int64"
            ]
          },
          "metadata": {},
          "execution_count": 13
        }
      ],
      "source": [
        "preg.birthwgt_lb.value_counts().sort_index()"
      ]
    },
    {
      "cell_type": "markdown",
      "metadata": {
        "id": "AXZ7LhFQ92-a"
      },
      "source": [
        "Make a dictionary that maps from each respondent's `caseid` to a list of indices into the pregnancy `DataFrame`.  Use it to select the pregnancy outcomes for a single respondent."
      ]
    },
    {
      "cell_type": "code",
      "execution_count": 14,
      "metadata": {
        "id": "9MUv_rz992-a",
        "outputId": "cfcb63d6-e287-4424-ac6e-35c85f4940c3",
        "colab": {
          "base_uri": "https://localhost:8080/"
        }
      },
      "outputs": [
        {
          "output_type": "execute_result",
          "data": {
            "text/plain": [
              "array([4, 4, 4, 4, 4, 4, 1])"
            ]
          },
          "metadata": {},
          "execution_count": 14
        }
      ],
      "source": [
        "caseid = 10229\n",
        "preg_map = nsfg.MakePregMap(preg)\n",
        "indices = preg_map[caseid]\n",
        "preg.outcome[indices].values"
      ]
    },
    {
      "cell_type": "markdown",
      "metadata": {
        "collapsed": true,
        "id": "DklZ8MsM92-a"
      },
      "source": [
        "## Exercises"
      ]
    },
    {
      "cell_type": "markdown",
      "metadata": {
        "id": "MQ2zMKq692-a"
      },
      "source": [
        "Select the `birthord` column, print the value counts, and compare to results published in the [codebook](ftp://ftp.cdc.gov/pub/Health_Statistics/NCHS/Dataset_Documentation/NSFG/Cycle6Codebook-Pregnancy.pdf)"
      ]
    },
    {
      "cell_type": "code",
      "execution_count": 15,
      "metadata": {
        "id": "Ln8HiQys92-a",
        "outputId": "9892d5ad-5d37-4d7d-dd5c-0efc7a6abc9b",
        "colab": {
          "base_uri": "https://localhost:8080/"
        }
      },
      "outputs": [
        {
          "output_type": "execute_result",
          "data": {
            "text/plain": [
              "1.0     4413\n",
              "2.0     2874\n",
              "3.0     1234\n",
              "4.0      421\n",
              "5.0      126\n",
              "6.0       50\n",
              "7.0       20\n",
              "8.0        7\n",
              "9.0        2\n",
              "10.0       1\n",
              "Name: birthord, dtype: int64"
            ]
          },
          "metadata": {},
          "execution_count": 15
        }
      ],
      "source": [
        "preg.birthord.value_counts().sort_index()"
      ]
    },
    {
      "cell_type": "markdown",
      "metadata": {
        "id": "2Xn2Q_ME92-a"
      },
      "source": [
        "We can also use `isnull` to count the number of nans."
      ]
    },
    {
      "cell_type": "code",
      "execution_count": 16,
      "metadata": {
        "id": "8vvGO9_792-a",
        "outputId": "e94e901e-ef08-44b8-d15f-6c44a46daabb",
        "colab": {
          "base_uri": "https://localhost:8080/"
        }
      },
      "outputs": [
        {
          "output_type": "execute_result",
          "data": {
            "text/plain": [
              "4445"
            ]
          },
          "metadata": {},
          "execution_count": 16
        }
      ],
      "source": [
        "preg.birthord.isnull().sum()"
      ]
    },
    {
      "cell_type": "markdown",
      "metadata": {
        "id": "beQHcBAH92-a"
      },
      "source": [
        "Select the `prglngth` column, print the value counts, and compare to results published in the [codebook](ftp://ftp.cdc.gov/pub/Health_Statistics/NCHS/Dataset_Documentation/NSFG/Cycle6Codebook-Pregnancy.pdf)"
      ]
    },
    {
      "cell_type": "code",
      "execution_count": 18,
      "metadata": {
        "id": "3Y7EGycX92-a",
        "outputId": "662a5620-505c-4cf4-d3f6-f039a05ba129",
        "colab": {
          "base_uri": "https://localhost:8080/"
        }
      },
      "outputs": [
        {
          "output_type": "execute_result",
          "data": {
            "text/plain": [
              "0       15\n",
              "1        9\n",
              "2       78\n",
              "3      151\n",
              "4      412\n",
              "5      181\n",
              "6      543\n",
              "7      175\n",
              "8      409\n",
              "9      594\n",
              "10     137\n",
              "11     202\n",
              "12     170\n",
              "13     446\n",
              "14      29\n",
              "15      39\n",
              "16      44\n",
              "17     253\n",
              "18      17\n",
              "19      34\n",
              "20      18\n",
              "21      37\n",
              "22     147\n",
              "23      12\n",
              "24      31\n",
              "25      15\n",
              "26     117\n",
              "27       8\n",
              "28      38\n",
              "29      23\n",
              "30     198\n",
              "31      29\n",
              "32     122\n",
              "33      50\n",
              "34      60\n",
              "35     357\n",
              "36     329\n",
              "37     457\n",
              "38     609\n",
              "39    4744\n",
              "40    1120\n",
              "41     591\n",
              "42     328\n",
              "43     148\n",
              "44      46\n",
              "45      10\n",
              "46       1\n",
              "47       1\n",
              "48       7\n",
              "50       2\n",
              "Name: prglngth, dtype: int64"
            ]
          },
          "metadata": {},
          "execution_count": 18
        }
      ],
      "source": [
        "preg.prglngth.value_counts().sort_index()"
      ]
    },
    {
      "cell_type": "markdown",
      "metadata": {
        "id": "HL8A7QZm92-b"
      },
      "source": [
        "To compute the mean of a column, you can invoke the `mean` method on a Series.  For example, here is the mean birthweight in pounds:"
      ]
    },
    {
      "cell_type": "code",
      "execution_count": 19,
      "metadata": {
        "id": "s-ZfrPwr92-b",
        "outputId": "a94958ca-4aeb-4972-b7b1-e2bbeecc5fb8",
        "colab": {
          "base_uri": "https://localhost:8080/"
        }
      },
      "outputs": [
        {
          "output_type": "execute_result",
          "data": {
            "text/plain": [
              "7.265628457623368"
            ]
          },
          "metadata": {},
          "execution_count": 19
        }
      ],
      "source": [
        "preg.totalwgt_lb.mean()"
      ]
    },
    {
      "cell_type": "markdown",
      "metadata": {
        "id": "GKx9phql92-b"
      },
      "source": [
        "Create a new column named <tt>totalwgt_kg</tt> that contains birth weight in kilograms.  Compute its mean.  Remember that when you create a new column, you have to use dictionary syntax, not dot notation."
      ]
    },
    {
      "cell_type": "code",
      "execution_count": 42,
      "metadata": {
        "id": "JaMMAujI92-b",
        "outputId": "aa8a2a0f-9aa3-45c5-a8a4-6972085061a5",
        "colab": {
          "base_uri": "https://localhost:8080/"
        }
      },
      "outputs": [
        {
          "output_type": "execute_result",
          "data": {
            "text/plain": [
              "3.302558389828803"
            ]
          },
          "metadata": {},
          "execution_count": 42
        }
      ],
      "source": [
        "preg[\"totalwgt_kg\"] = preg.totalwgt_lb/2.2\n",
        "preg.totalwgt_kg.head()\n",
        "preg.totalwgt_kg.mean()"
      ]
    },
    {
      "cell_type": "markdown",
      "metadata": {
        "id": "dIkLew_u92-b"
      },
      "source": [
        "`nsfg.py` also provides `ReadFemResp`, which reads the female respondents file and returns a `DataFrame`:"
      ]
    },
    {
      "cell_type": "code",
      "execution_count": 24,
      "metadata": {
        "id": "ychYHtHr92-b",
        "outputId": "e237b6cf-23d5-4b86-9a39-5827503fd72a",
        "colab": {
          "base_uri": "https://localhost:8080/"
        }
      },
      "outputs": [
        {
          "output_type": "stream",
          "name": "stdout",
          "text": [
            "Downloaded 2002FemResp.dct\n",
            "Downloaded 2002FemResp.dat.gz\n"
          ]
        }
      ],
      "source": [
        "download(\"https://github.com/AllenDowney/ThinkStats2/raw/master/code/2002FemResp.dct\")\n",
        "download(\"https://github.com/AllenDowney/ThinkStats2/raw/master/code/2002FemResp.dat.gz\")"
      ]
    },
    {
      "cell_type": "code",
      "execution_count": 25,
      "metadata": {
        "id": "ZVayR7Un92-e"
      },
      "outputs": [],
      "source": [
        "resp = nsfg.ReadFemResp()"
      ]
    },
    {
      "cell_type": "markdown",
      "metadata": {
        "id": "544gNZDZ92-e"
      },
      "source": [
        "`DataFrame` provides a method `head` that displays the first five rows:"
      ]
    },
    {
      "cell_type": "code",
      "execution_count": 26,
      "metadata": {
        "id": "hhrUsbDl92-e",
        "outputId": "0debf264-df4d-4ced-8562-9fe733334837",
        "colab": {
          "base_uri": "https://localhost:8080/",
          "height": 256
        }
      },
      "outputs": [
        {
          "output_type": "execute_result",
          "data": {
            "text/plain": [
              "   caseid  rscrinf  rdormres  rostscrn  rscreenhisp  rscreenrace  age_a  \\\n",
              "0    2298        1         5         5            1          5.0     27   \n",
              "1    5012        1         5         1            5          5.0     42   \n",
              "2   11586        1         5         1            5          5.0     43   \n",
              "3    6794        5         5         4            1          5.0     15   \n",
              "4     616        1         5         4            1          5.0     20   \n",
              "\n",
              "   age_r  cmbirth  agescrn  ...  pubassis_i      basewgt  adj_mod_basewgt  \\\n",
              "0     27      902       27  ...           0  3247.916977      5123.759559   \n",
              "1     42      718       42  ...           0  2335.279149      2846.799490   \n",
              "2     43      708       43  ...           0  2335.279149      2846.799490   \n",
              "3     15     1042       15  ...           0  3783.152221      5071.464231   \n",
              "4     20      991       20  ...           0  5341.329968      6437.335772   \n",
              "\n",
              "      finalwgt  secu_r  sest  cmintvw  cmlstyr  screentime   intvlngth  \n",
              "0  5556.717241       2    18     1234     1222    18:26:36  110.492667  \n",
              "1  4744.191350       2    18     1233     1221    16:30:59   64.294000  \n",
              "2  4744.191350       2    18     1234     1222    18:19:09   75.149167  \n",
              "3  5923.977368       2    18     1234     1222    15:54:43   28.642833  \n",
              "4  7229.128072       2    18     1233     1221    14:19:44   69.502667  \n",
              "\n",
              "[5 rows x 3087 columns]"
            ],
            "text/html": [
              "\n",
              "  <div id=\"df-65cb427c-5e52-4723-ba7b-e0f454838499\" class=\"colab-df-container\">\n",
              "    <div>\n",
              "<style scoped>\n",
              "    .dataframe tbody tr th:only-of-type {\n",
              "        vertical-align: middle;\n",
              "    }\n",
              "\n",
              "    .dataframe tbody tr th {\n",
              "        vertical-align: top;\n",
              "    }\n",
              "\n",
              "    .dataframe thead th {\n",
              "        text-align: right;\n",
              "    }\n",
              "</style>\n",
              "<table border=\"1\" class=\"dataframe\">\n",
              "  <thead>\n",
              "    <tr style=\"text-align: right;\">\n",
              "      <th></th>\n",
              "      <th>caseid</th>\n",
              "      <th>rscrinf</th>\n",
              "      <th>rdormres</th>\n",
              "      <th>rostscrn</th>\n",
              "      <th>rscreenhisp</th>\n",
              "      <th>rscreenrace</th>\n",
              "      <th>age_a</th>\n",
              "      <th>age_r</th>\n",
              "      <th>cmbirth</th>\n",
              "      <th>agescrn</th>\n",
              "      <th>...</th>\n",
              "      <th>pubassis_i</th>\n",
              "      <th>basewgt</th>\n",
              "      <th>adj_mod_basewgt</th>\n",
              "      <th>finalwgt</th>\n",
              "      <th>secu_r</th>\n",
              "      <th>sest</th>\n",
              "      <th>cmintvw</th>\n",
              "      <th>cmlstyr</th>\n",
              "      <th>screentime</th>\n",
              "      <th>intvlngth</th>\n",
              "    </tr>\n",
              "  </thead>\n",
              "  <tbody>\n",
              "    <tr>\n",
              "      <th>0</th>\n",
              "      <td>2298</td>\n",
              "      <td>1</td>\n",
              "      <td>5</td>\n",
              "      <td>5</td>\n",
              "      <td>1</td>\n",
              "      <td>5.0</td>\n",
              "      <td>27</td>\n",
              "      <td>27</td>\n",
              "      <td>902</td>\n",
              "      <td>27</td>\n",
              "      <td>...</td>\n",
              "      <td>0</td>\n",
              "      <td>3247.916977</td>\n",
              "      <td>5123.759559</td>\n",
              "      <td>5556.717241</td>\n",
              "      <td>2</td>\n",
              "      <td>18</td>\n",
              "      <td>1234</td>\n",
              "      <td>1222</td>\n",
              "      <td>18:26:36</td>\n",
              "      <td>110.492667</td>\n",
              "    </tr>\n",
              "    <tr>\n",
              "      <th>1</th>\n",
              "      <td>5012</td>\n",
              "      <td>1</td>\n",
              "      <td>5</td>\n",
              "      <td>1</td>\n",
              "      <td>5</td>\n",
              "      <td>5.0</td>\n",
              "      <td>42</td>\n",
              "      <td>42</td>\n",
              "      <td>718</td>\n",
              "      <td>42</td>\n",
              "      <td>...</td>\n",
              "      <td>0</td>\n",
              "      <td>2335.279149</td>\n",
              "      <td>2846.799490</td>\n",
              "      <td>4744.191350</td>\n",
              "      <td>2</td>\n",
              "      <td>18</td>\n",
              "      <td>1233</td>\n",
              "      <td>1221</td>\n",
              "      <td>16:30:59</td>\n",
              "      <td>64.294000</td>\n",
              "    </tr>\n",
              "    <tr>\n",
              "      <th>2</th>\n",
              "      <td>11586</td>\n",
              "      <td>1</td>\n",
              "      <td>5</td>\n",
              "      <td>1</td>\n",
              "      <td>5</td>\n",
              "      <td>5.0</td>\n",
              "      <td>43</td>\n",
              "      <td>43</td>\n",
              "      <td>708</td>\n",
              "      <td>43</td>\n",
              "      <td>...</td>\n",
              "      <td>0</td>\n",
              "      <td>2335.279149</td>\n",
              "      <td>2846.799490</td>\n",
              "      <td>4744.191350</td>\n",
              "      <td>2</td>\n",
              "      <td>18</td>\n",
              "      <td>1234</td>\n",
              "      <td>1222</td>\n",
              "      <td>18:19:09</td>\n",
              "      <td>75.149167</td>\n",
              "    </tr>\n",
              "    <tr>\n",
              "      <th>3</th>\n",
              "      <td>6794</td>\n",
              "      <td>5</td>\n",
              "      <td>5</td>\n",
              "      <td>4</td>\n",
              "      <td>1</td>\n",
              "      <td>5.0</td>\n",
              "      <td>15</td>\n",
              "      <td>15</td>\n",
              "      <td>1042</td>\n",
              "      <td>15</td>\n",
              "      <td>...</td>\n",
              "      <td>0</td>\n",
              "      <td>3783.152221</td>\n",
              "      <td>5071.464231</td>\n",
              "      <td>5923.977368</td>\n",
              "      <td>2</td>\n",
              "      <td>18</td>\n",
              "      <td>1234</td>\n",
              "      <td>1222</td>\n",
              "      <td>15:54:43</td>\n",
              "      <td>28.642833</td>\n",
              "    </tr>\n",
              "    <tr>\n",
              "      <th>4</th>\n",
              "      <td>616</td>\n",
              "      <td>1</td>\n",
              "      <td>5</td>\n",
              "      <td>4</td>\n",
              "      <td>1</td>\n",
              "      <td>5.0</td>\n",
              "      <td>20</td>\n",
              "      <td>20</td>\n",
              "      <td>991</td>\n",
              "      <td>20</td>\n",
              "      <td>...</td>\n",
              "      <td>0</td>\n",
              "      <td>5341.329968</td>\n",
              "      <td>6437.335772</td>\n",
              "      <td>7229.128072</td>\n",
              "      <td>2</td>\n",
              "      <td>18</td>\n",
              "      <td>1233</td>\n",
              "      <td>1221</td>\n",
              "      <td>14:19:44</td>\n",
              "      <td>69.502667</td>\n",
              "    </tr>\n",
              "  </tbody>\n",
              "</table>\n",
              "<p>5 rows × 3087 columns</p>\n",
              "</div>\n",
              "    <div class=\"colab-df-buttons\">\n",
              "\n",
              "  <div class=\"colab-df-container\">\n",
              "    <button class=\"colab-df-convert\" onclick=\"convertToInteractive('df-65cb427c-5e52-4723-ba7b-e0f454838499')\"\n",
              "            title=\"Convert this dataframe to an interactive table.\"\n",
              "            style=\"display:none;\">\n",
              "\n",
              "  <svg xmlns=\"http://www.w3.org/2000/svg\" height=\"24px\" viewBox=\"0 -960 960 960\">\n",
              "    <path d=\"M120-120v-720h720v720H120Zm60-500h600v-160H180v160Zm220 220h160v-160H400v160Zm0 220h160v-160H400v160ZM180-400h160v-160H180v160Zm440 0h160v-160H620v160ZM180-180h160v-160H180v160Zm440 0h160v-160H620v160Z\"/>\n",
              "  </svg>\n",
              "    </button>\n",
              "\n",
              "  <style>\n",
              "    .colab-df-container {\n",
              "      display:flex;\n",
              "      gap: 12px;\n",
              "    }\n",
              "\n",
              "    .colab-df-convert {\n",
              "      background-color: #E8F0FE;\n",
              "      border: none;\n",
              "      border-radius: 50%;\n",
              "      cursor: pointer;\n",
              "      display: none;\n",
              "      fill: #1967D2;\n",
              "      height: 32px;\n",
              "      padding: 0 0 0 0;\n",
              "      width: 32px;\n",
              "    }\n",
              "\n",
              "    .colab-df-convert:hover {\n",
              "      background-color: #E2EBFA;\n",
              "      box-shadow: 0px 1px 2px rgba(60, 64, 67, 0.3), 0px 1px 3px 1px rgba(60, 64, 67, 0.15);\n",
              "      fill: #174EA6;\n",
              "    }\n",
              "\n",
              "    .colab-df-buttons div {\n",
              "      margin-bottom: 4px;\n",
              "    }\n",
              "\n",
              "    [theme=dark] .colab-df-convert {\n",
              "      background-color: #3B4455;\n",
              "      fill: #D2E3FC;\n",
              "    }\n",
              "\n",
              "    [theme=dark] .colab-df-convert:hover {\n",
              "      background-color: #434B5C;\n",
              "      box-shadow: 0px 1px 3px 1px rgba(0, 0, 0, 0.15);\n",
              "      filter: drop-shadow(0px 1px 2px rgba(0, 0, 0, 0.3));\n",
              "      fill: #FFFFFF;\n",
              "    }\n",
              "  </style>\n",
              "\n",
              "    <script>\n",
              "      const buttonEl =\n",
              "        document.querySelector('#df-65cb427c-5e52-4723-ba7b-e0f454838499 button.colab-df-convert');\n",
              "      buttonEl.style.display =\n",
              "        google.colab.kernel.accessAllowed ? 'block' : 'none';\n",
              "\n",
              "      async function convertToInteractive(key) {\n",
              "        const element = document.querySelector('#df-65cb427c-5e52-4723-ba7b-e0f454838499');\n",
              "        const dataTable =\n",
              "          await google.colab.kernel.invokeFunction('convertToInteractive',\n",
              "                                                    [key], {});\n",
              "        if (!dataTable) return;\n",
              "\n",
              "        const docLinkHtml = 'Like what you see? Visit the ' +\n",
              "          '<a target=\"_blank\" href=https://colab.research.google.com/notebooks/data_table.ipynb>data table notebook</a>'\n",
              "          + ' to learn more about interactive tables.';\n",
              "        element.innerHTML = '';\n",
              "        dataTable['output_type'] = 'display_data';\n",
              "        await google.colab.output.renderOutput(dataTable, element);\n",
              "        const docLink = document.createElement('div');\n",
              "        docLink.innerHTML = docLinkHtml;\n",
              "        element.appendChild(docLink);\n",
              "      }\n",
              "    </script>\n",
              "  </div>\n",
              "\n",
              "\n",
              "<div id=\"df-2fc3b20c-35d8-4513-b422-daf23fcc0246\">\n",
              "  <button class=\"colab-df-quickchart\" onclick=\"quickchart('df-2fc3b20c-35d8-4513-b422-daf23fcc0246')\"\n",
              "            title=\"Suggest charts\"\n",
              "            style=\"display:none;\">\n",
              "\n",
              "<svg xmlns=\"http://www.w3.org/2000/svg\" height=\"24px\"viewBox=\"0 0 24 24\"\n",
              "     width=\"24px\">\n",
              "    <g>\n",
              "        <path d=\"M19 3H5c-1.1 0-2 .9-2 2v14c0 1.1.9 2 2 2h14c1.1 0 2-.9 2-2V5c0-1.1-.9-2-2-2zM9 17H7v-7h2v7zm4 0h-2V7h2v10zm4 0h-2v-4h2v4z\"/>\n",
              "    </g>\n",
              "</svg>\n",
              "  </button>\n",
              "\n",
              "<style>\n",
              "  .colab-df-quickchart {\n",
              "      --bg-color: #E8F0FE;\n",
              "      --fill-color: #1967D2;\n",
              "      --hover-bg-color: #E2EBFA;\n",
              "      --hover-fill-color: #174EA6;\n",
              "      --disabled-fill-color: #AAA;\n",
              "      --disabled-bg-color: #DDD;\n",
              "  }\n",
              "\n",
              "  [theme=dark] .colab-df-quickchart {\n",
              "      --bg-color: #3B4455;\n",
              "      --fill-color: #D2E3FC;\n",
              "      --hover-bg-color: #434B5C;\n",
              "      --hover-fill-color: #FFFFFF;\n",
              "      --disabled-bg-color: #3B4455;\n",
              "      --disabled-fill-color: #666;\n",
              "  }\n",
              "\n",
              "  .colab-df-quickchart {\n",
              "    background-color: var(--bg-color);\n",
              "    border: none;\n",
              "    border-radius: 50%;\n",
              "    cursor: pointer;\n",
              "    display: none;\n",
              "    fill: var(--fill-color);\n",
              "    height: 32px;\n",
              "    padding: 0;\n",
              "    width: 32px;\n",
              "  }\n",
              "\n",
              "  .colab-df-quickchart:hover {\n",
              "    background-color: var(--hover-bg-color);\n",
              "    box-shadow: 0 1px 2px rgba(60, 64, 67, 0.3), 0 1px 3px 1px rgba(60, 64, 67, 0.15);\n",
              "    fill: var(--button-hover-fill-color);\n",
              "  }\n",
              "\n",
              "  .colab-df-quickchart-complete:disabled,\n",
              "  .colab-df-quickchart-complete:disabled:hover {\n",
              "    background-color: var(--disabled-bg-color);\n",
              "    fill: var(--disabled-fill-color);\n",
              "    box-shadow: none;\n",
              "  }\n",
              "\n",
              "  .colab-df-spinner {\n",
              "    border: 2px solid var(--fill-color);\n",
              "    border-color: transparent;\n",
              "    border-bottom-color: var(--fill-color);\n",
              "    animation:\n",
              "      spin 1s steps(1) infinite;\n",
              "  }\n",
              "\n",
              "  @keyframes spin {\n",
              "    0% {\n",
              "      border-color: transparent;\n",
              "      border-bottom-color: var(--fill-color);\n",
              "      border-left-color: var(--fill-color);\n",
              "    }\n",
              "    20% {\n",
              "      border-color: transparent;\n",
              "      border-left-color: var(--fill-color);\n",
              "      border-top-color: var(--fill-color);\n",
              "    }\n",
              "    30% {\n",
              "      border-color: transparent;\n",
              "      border-left-color: var(--fill-color);\n",
              "      border-top-color: var(--fill-color);\n",
              "      border-right-color: var(--fill-color);\n",
              "    }\n",
              "    40% {\n",
              "      border-color: transparent;\n",
              "      border-right-color: var(--fill-color);\n",
              "      border-top-color: var(--fill-color);\n",
              "    }\n",
              "    60% {\n",
              "      border-color: transparent;\n",
              "      border-right-color: var(--fill-color);\n",
              "    }\n",
              "    80% {\n",
              "      border-color: transparent;\n",
              "      border-right-color: var(--fill-color);\n",
              "      border-bottom-color: var(--fill-color);\n",
              "    }\n",
              "    90% {\n",
              "      border-color: transparent;\n",
              "      border-bottom-color: var(--fill-color);\n",
              "    }\n",
              "  }\n",
              "</style>\n",
              "\n",
              "  <script>\n",
              "    async function quickchart(key) {\n",
              "      const quickchartButtonEl =\n",
              "        document.querySelector('#' + key + ' button');\n",
              "      quickchartButtonEl.disabled = true;  // To prevent multiple clicks.\n",
              "      quickchartButtonEl.classList.add('colab-df-spinner');\n",
              "      try {\n",
              "        const charts = await google.colab.kernel.invokeFunction(\n",
              "            'suggestCharts', [key], {});\n",
              "      } catch (error) {\n",
              "        console.error('Error during call to suggestCharts:', error);\n",
              "      }\n",
              "      quickchartButtonEl.classList.remove('colab-df-spinner');\n",
              "      quickchartButtonEl.classList.add('colab-df-quickchart-complete');\n",
              "    }\n",
              "    (() => {\n",
              "      let quickchartButtonEl =\n",
              "        document.querySelector('#df-2fc3b20c-35d8-4513-b422-daf23fcc0246 button');\n",
              "      quickchartButtonEl.style.display =\n",
              "        google.colab.kernel.accessAllowed ? 'block' : 'none';\n",
              "    })();\n",
              "  </script>\n",
              "</div>\n",
              "\n",
              "    </div>\n",
              "  </div>\n"
            ],
            "application/vnd.google.colaboratory.intrinsic+json": {
              "type": "dataframe",
              "variable_name": "resp"
            }
          },
          "metadata": {},
          "execution_count": 26
        }
      ],
      "source": [
        "resp.head()"
      ]
    },
    {
      "cell_type": "markdown",
      "metadata": {
        "id": "E8-2ReRh92-e"
      },
      "source": [
        "Select the `age_r` column from `resp` and print the value counts.  How old are the youngest and oldest respondents?"
      ]
    },
    {
      "cell_type": "code",
      "execution_count": 29,
      "metadata": {
        "id": "MbQk3YrD92-e",
        "outputId": "35b484a5-1ba8-4f71-e0f4-85d83752a84b",
        "colab": {
          "base_uri": "https://localhost:8080/"
        }
      },
      "outputs": [
        {
          "output_type": "execute_result",
          "data": {
            "text/plain": [
              "15    217\n",
              "16    223\n",
              "17    234\n",
              "18    235\n",
              "19    241\n",
              "20    258\n",
              "21    267\n",
              "22    287\n",
              "23    282\n",
              "24    269\n",
              "25    267\n",
              "26    260\n",
              "27    255\n",
              "28    252\n",
              "29    262\n",
              "30    292\n",
              "31    278\n",
              "32    273\n",
              "33    257\n",
              "34    255\n",
              "35    262\n",
              "36    266\n",
              "37    271\n",
              "38    256\n",
              "39    215\n",
              "40    256\n",
              "41    250\n",
              "42    215\n",
              "43    253\n",
              "44    235\n",
              "Name: age_r, dtype: int64"
            ]
          },
          "metadata": {},
          "execution_count": 29
        }
      ],
      "source": [
        "resp.age_r.value_counts().sort_index()"
      ]
    },
    {
      "cell_type": "markdown",
      "metadata": {
        "id": "oPJjwkYM92-e"
      },
      "source": [
        "We can use the `caseid` to match up rows from `resp` and `preg`.  For example, we can select the row from `resp` for `caseid` 2298 like this:"
      ]
    },
    {
      "cell_type": "code",
      "execution_count": 30,
      "metadata": {
        "id": "f-aKQEpD92-e",
        "outputId": "fda4db0f-73c4-4de2-bbbd-72bfff3aa157",
        "colab": {
          "base_uri": "https://localhost:8080/",
          "height": 130
        }
      },
      "outputs": [
        {
          "output_type": "execute_result",
          "data": {
            "text/plain": [
              "   caseid  rscrinf  rdormres  rostscrn  rscreenhisp  rscreenrace  age_a  \\\n",
              "0    2298        1         5         5            1          5.0     27   \n",
              "\n",
              "   age_r  cmbirth  agescrn  ...  pubassis_i      basewgt  adj_mod_basewgt  \\\n",
              "0     27      902       27  ...           0  3247.916977      5123.759559   \n",
              "\n",
              "      finalwgt  secu_r  sest  cmintvw  cmlstyr  screentime   intvlngth  \n",
              "0  5556.717241       2    18     1234     1222    18:26:36  110.492667  \n",
              "\n",
              "[1 rows x 3087 columns]"
            ],
            "text/html": [
              "\n",
              "  <div id=\"df-a6a16782-a084-4eb4-8e5a-40e47dcf9b97\" class=\"colab-df-container\">\n",
              "    <div>\n",
              "<style scoped>\n",
              "    .dataframe tbody tr th:only-of-type {\n",
              "        vertical-align: middle;\n",
              "    }\n",
              "\n",
              "    .dataframe tbody tr th {\n",
              "        vertical-align: top;\n",
              "    }\n",
              "\n",
              "    .dataframe thead th {\n",
              "        text-align: right;\n",
              "    }\n",
              "</style>\n",
              "<table border=\"1\" class=\"dataframe\">\n",
              "  <thead>\n",
              "    <tr style=\"text-align: right;\">\n",
              "      <th></th>\n",
              "      <th>caseid</th>\n",
              "      <th>rscrinf</th>\n",
              "      <th>rdormres</th>\n",
              "      <th>rostscrn</th>\n",
              "      <th>rscreenhisp</th>\n",
              "      <th>rscreenrace</th>\n",
              "      <th>age_a</th>\n",
              "      <th>age_r</th>\n",
              "      <th>cmbirth</th>\n",
              "      <th>agescrn</th>\n",
              "      <th>...</th>\n",
              "      <th>pubassis_i</th>\n",
              "      <th>basewgt</th>\n",
              "      <th>adj_mod_basewgt</th>\n",
              "      <th>finalwgt</th>\n",
              "      <th>secu_r</th>\n",
              "      <th>sest</th>\n",
              "      <th>cmintvw</th>\n",
              "      <th>cmlstyr</th>\n",
              "      <th>screentime</th>\n",
              "      <th>intvlngth</th>\n",
              "    </tr>\n",
              "  </thead>\n",
              "  <tbody>\n",
              "    <tr>\n",
              "      <th>0</th>\n",
              "      <td>2298</td>\n",
              "      <td>1</td>\n",
              "      <td>5</td>\n",
              "      <td>5</td>\n",
              "      <td>1</td>\n",
              "      <td>5.0</td>\n",
              "      <td>27</td>\n",
              "      <td>27</td>\n",
              "      <td>902</td>\n",
              "      <td>27</td>\n",
              "      <td>...</td>\n",
              "      <td>0</td>\n",
              "      <td>3247.916977</td>\n",
              "      <td>5123.759559</td>\n",
              "      <td>5556.717241</td>\n",
              "      <td>2</td>\n",
              "      <td>18</td>\n",
              "      <td>1234</td>\n",
              "      <td>1222</td>\n",
              "      <td>18:26:36</td>\n",
              "      <td>110.492667</td>\n",
              "    </tr>\n",
              "  </tbody>\n",
              "</table>\n",
              "<p>1 rows × 3087 columns</p>\n",
              "</div>\n",
              "    <div class=\"colab-df-buttons\">\n",
              "\n",
              "  <div class=\"colab-df-container\">\n",
              "    <button class=\"colab-df-convert\" onclick=\"convertToInteractive('df-a6a16782-a084-4eb4-8e5a-40e47dcf9b97')\"\n",
              "            title=\"Convert this dataframe to an interactive table.\"\n",
              "            style=\"display:none;\">\n",
              "\n",
              "  <svg xmlns=\"http://www.w3.org/2000/svg\" height=\"24px\" viewBox=\"0 -960 960 960\">\n",
              "    <path d=\"M120-120v-720h720v720H120Zm60-500h600v-160H180v160Zm220 220h160v-160H400v160Zm0 220h160v-160H400v160ZM180-400h160v-160H180v160Zm440 0h160v-160H620v160ZM180-180h160v-160H180v160Zm440 0h160v-160H620v160Z\"/>\n",
              "  </svg>\n",
              "    </button>\n",
              "\n",
              "  <style>\n",
              "    .colab-df-container {\n",
              "      display:flex;\n",
              "      gap: 12px;\n",
              "    }\n",
              "\n",
              "    .colab-df-convert {\n",
              "      background-color: #E8F0FE;\n",
              "      border: none;\n",
              "      border-radius: 50%;\n",
              "      cursor: pointer;\n",
              "      display: none;\n",
              "      fill: #1967D2;\n",
              "      height: 32px;\n",
              "      padding: 0 0 0 0;\n",
              "      width: 32px;\n",
              "    }\n",
              "\n",
              "    .colab-df-convert:hover {\n",
              "      background-color: #E2EBFA;\n",
              "      box-shadow: 0px 1px 2px rgba(60, 64, 67, 0.3), 0px 1px 3px 1px rgba(60, 64, 67, 0.15);\n",
              "      fill: #174EA6;\n",
              "    }\n",
              "\n",
              "    .colab-df-buttons div {\n",
              "      margin-bottom: 4px;\n",
              "    }\n",
              "\n",
              "    [theme=dark] .colab-df-convert {\n",
              "      background-color: #3B4455;\n",
              "      fill: #D2E3FC;\n",
              "    }\n",
              "\n",
              "    [theme=dark] .colab-df-convert:hover {\n",
              "      background-color: #434B5C;\n",
              "      box-shadow: 0px 1px 3px 1px rgba(0, 0, 0, 0.15);\n",
              "      filter: drop-shadow(0px 1px 2px rgba(0, 0, 0, 0.3));\n",
              "      fill: #FFFFFF;\n",
              "    }\n",
              "  </style>\n",
              "\n",
              "    <script>\n",
              "      const buttonEl =\n",
              "        document.querySelector('#df-a6a16782-a084-4eb4-8e5a-40e47dcf9b97 button.colab-df-convert');\n",
              "      buttonEl.style.display =\n",
              "        google.colab.kernel.accessAllowed ? 'block' : 'none';\n",
              "\n",
              "      async function convertToInteractive(key) {\n",
              "        const element = document.querySelector('#df-a6a16782-a084-4eb4-8e5a-40e47dcf9b97');\n",
              "        const dataTable =\n",
              "          await google.colab.kernel.invokeFunction('convertToInteractive',\n",
              "                                                    [key], {});\n",
              "        if (!dataTable) return;\n",
              "\n",
              "        const docLinkHtml = 'Like what you see? Visit the ' +\n",
              "          '<a target=\"_blank\" href=https://colab.research.google.com/notebooks/data_table.ipynb>data table notebook</a>'\n",
              "          + ' to learn more about interactive tables.';\n",
              "        element.innerHTML = '';\n",
              "        dataTable['output_type'] = 'display_data';\n",
              "        await google.colab.output.renderOutput(dataTable, element);\n",
              "        const docLink = document.createElement('div');\n",
              "        docLink.innerHTML = docLinkHtml;\n",
              "        element.appendChild(docLink);\n",
              "      }\n",
              "    </script>\n",
              "  </div>\n",
              "\n",
              "\n",
              "    </div>\n",
              "  </div>\n"
            ],
            "application/vnd.google.colaboratory.intrinsic+json": {
              "type": "dataframe"
            }
          },
          "metadata": {},
          "execution_count": 30
        }
      ],
      "source": [
        "resp[resp.caseid==2298]"
      ]
    },
    {
      "cell_type": "markdown",
      "metadata": {
        "id": "1TMqiIFU92-e"
      },
      "source": [
        "And we can get the corresponding rows from `preg` like this:"
      ]
    },
    {
      "cell_type": "code",
      "execution_count": 31,
      "metadata": {
        "id": "agb4HM6n92-e",
        "outputId": "d9d20153-8b76-4fd0-e4fd-30e73d627870",
        "colab": {
          "base_uri": "https://localhost:8080/",
          "height": 224
        }
      },
      "outputs": [
        {
          "output_type": "execute_result",
          "data": {
            "text/plain": [
              "      caseid  pregordr  howpreg_n  howpreg_p  moscurrp  nowprgdk  pregend1  \\\n",
              "2610    2298         1        NaN        NaN       NaN       NaN       6.0   \n",
              "2611    2298         2        NaN        NaN       NaN       NaN       6.0   \n",
              "2612    2298         3        NaN        NaN       NaN       NaN       6.0   \n",
              "2613    2298         4        NaN        NaN       NaN       NaN       6.0   \n",
              "\n",
              "      pregend2  nbrnaliv  multbrth  ...  religion_i  metro_i      basewgt  \\\n",
              "2610       NaN       1.0       NaN  ...           0        0  3247.916977   \n",
              "2611       NaN       1.0       NaN  ...           0        0  3247.916977   \n",
              "2612       NaN       1.0       NaN  ...           0        0  3247.916977   \n",
              "2613       NaN       1.0       NaN  ...           0        0  3247.916977   \n",
              "\n",
              "      adj_mod_basewgt     finalwgt  secu_p  sest  cmintvw  totalwgt_lb  \\\n",
              "2610      5123.759559  5556.717241       2    18      NaN       6.8750   \n",
              "2611      5123.759559  5556.717241       2    18      NaN       5.5000   \n",
              "2612      5123.759559  5556.717241       2    18      NaN       4.1875   \n",
              "2613      5123.759559  5556.717241       2    18      NaN       6.8750   \n",
              "\n",
              "      totalwgt_kg  \n",
              "2610      3.43750  \n",
              "2611      2.75000  \n",
              "2612      2.09375  \n",
              "2613      3.43750  \n",
              "\n",
              "[4 rows x 245 columns]"
            ],
            "text/html": [
              "\n",
              "  <div id=\"df-33e5750c-9a2c-48a5-bae3-938cfab0813b\" class=\"colab-df-container\">\n",
              "    <div>\n",
              "<style scoped>\n",
              "    .dataframe tbody tr th:only-of-type {\n",
              "        vertical-align: middle;\n",
              "    }\n",
              "\n",
              "    .dataframe tbody tr th {\n",
              "        vertical-align: top;\n",
              "    }\n",
              "\n",
              "    .dataframe thead th {\n",
              "        text-align: right;\n",
              "    }\n",
              "</style>\n",
              "<table border=\"1\" class=\"dataframe\">\n",
              "  <thead>\n",
              "    <tr style=\"text-align: right;\">\n",
              "      <th></th>\n",
              "      <th>caseid</th>\n",
              "      <th>pregordr</th>\n",
              "      <th>howpreg_n</th>\n",
              "      <th>howpreg_p</th>\n",
              "      <th>moscurrp</th>\n",
              "      <th>nowprgdk</th>\n",
              "      <th>pregend1</th>\n",
              "      <th>pregend2</th>\n",
              "      <th>nbrnaliv</th>\n",
              "      <th>multbrth</th>\n",
              "      <th>...</th>\n",
              "      <th>religion_i</th>\n",
              "      <th>metro_i</th>\n",
              "      <th>basewgt</th>\n",
              "      <th>adj_mod_basewgt</th>\n",
              "      <th>finalwgt</th>\n",
              "      <th>secu_p</th>\n",
              "      <th>sest</th>\n",
              "      <th>cmintvw</th>\n",
              "      <th>totalwgt_lb</th>\n",
              "      <th>totalwgt_kg</th>\n",
              "    </tr>\n",
              "  </thead>\n",
              "  <tbody>\n",
              "    <tr>\n",
              "      <th>2610</th>\n",
              "      <td>2298</td>\n",
              "      <td>1</td>\n",
              "      <td>NaN</td>\n",
              "      <td>NaN</td>\n",
              "      <td>NaN</td>\n",
              "      <td>NaN</td>\n",
              "      <td>6.0</td>\n",
              "      <td>NaN</td>\n",
              "      <td>1.0</td>\n",
              "      <td>NaN</td>\n",
              "      <td>...</td>\n",
              "      <td>0</td>\n",
              "      <td>0</td>\n",
              "      <td>3247.916977</td>\n",
              "      <td>5123.759559</td>\n",
              "      <td>5556.717241</td>\n",
              "      <td>2</td>\n",
              "      <td>18</td>\n",
              "      <td>NaN</td>\n",
              "      <td>6.8750</td>\n",
              "      <td>3.43750</td>\n",
              "    </tr>\n",
              "    <tr>\n",
              "      <th>2611</th>\n",
              "      <td>2298</td>\n",
              "      <td>2</td>\n",
              "      <td>NaN</td>\n",
              "      <td>NaN</td>\n",
              "      <td>NaN</td>\n",
              "      <td>NaN</td>\n",
              "      <td>6.0</td>\n",
              "      <td>NaN</td>\n",
              "      <td>1.0</td>\n",
              "      <td>NaN</td>\n",
              "      <td>...</td>\n",
              "      <td>0</td>\n",
              "      <td>0</td>\n",
              "      <td>3247.916977</td>\n",
              "      <td>5123.759559</td>\n",
              "      <td>5556.717241</td>\n",
              "      <td>2</td>\n",
              "      <td>18</td>\n",
              "      <td>NaN</td>\n",
              "      <td>5.5000</td>\n",
              "      <td>2.75000</td>\n",
              "    </tr>\n",
              "    <tr>\n",
              "      <th>2612</th>\n",
              "      <td>2298</td>\n",
              "      <td>3</td>\n",
              "      <td>NaN</td>\n",
              "      <td>NaN</td>\n",
              "      <td>NaN</td>\n",
              "      <td>NaN</td>\n",
              "      <td>6.0</td>\n",
              "      <td>NaN</td>\n",
              "      <td>1.0</td>\n",
              "      <td>NaN</td>\n",
              "      <td>...</td>\n",
              "      <td>0</td>\n",
              "      <td>0</td>\n",
              "      <td>3247.916977</td>\n",
              "      <td>5123.759559</td>\n",
              "      <td>5556.717241</td>\n",
              "      <td>2</td>\n",
              "      <td>18</td>\n",
              "      <td>NaN</td>\n",
              "      <td>4.1875</td>\n",
              "      <td>2.09375</td>\n",
              "    </tr>\n",
              "    <tr>\n",
              "      <th>2613</th>\n",
              "      <td>2298</td>\n",
              "      <td>4</td>\n",
              "      <td>NaN</td>\n",
              "      <td>NaN</td>\n",
              "      <td>NaN</td>\n",
              "      <td>NaN</td>\n",
              "      <td>6.0</td>\n",
              "      <td>NaN</td>\n",
              "      <td>1.0</td>\n",
              "      <td>NaN</td>\n",
              "      <td>...</td>\n",
              "      <td>0</td>\n",
              "      <td>0</td>\n",
              "      <td>3247.916977</td>\n",
              "      <td>5123.759559</td>\n",
              "      <td>5556.717241</td>\n",
              "      <td>2</td>\n",
              "      <td>18</td>\n",
              "      <td>NaN</td>\n",
              "      <td>6.8750</td>\n",
              "      <td>3.43750</td>\n",
              "    </tr>\n",
              "  </tbody>\n",
              "</table>\n",
              "<p>4 rows × 245 columns</p>\n",
              "</div>\n",
              "    <div class=\"colab-df-buttons\">\n",
              "\n",
              "  <div class=\"colab-df-container\">\n",
              "    <button class=\"colab-df-convert\" onclick=\"convertToInteractive('df-33e5750c-9a2c-48a5-bae3-938cfab0813b')\"\n",
              "            title=\"Convert this dataframe to an interactive table.\"\n",
              "            style=\"display:none;\">\n",
              "\n",
              "  <svg xmlns=\"http://www.w3.org/2000/svg\" height=\"24px\" viewBox=\"0 -960 960 960\">\n",
              "    <path d=\"M120-120v-720h720v720H120Zm60-500h600v-160H180v160Zm220 220h160v-160H400v160Zm0 220h160v-160H400v160ZM180-400h160v-160H180v160Zm440 0h160v-160H620v160ZM180-180h160v-160H180v160Zm440 0h160v-160H620v160Z\"/>\n",
              "  </svg>\n",
              "    </button>\n",
              "\n",
              "  <style>\n",
              "    .colab-df-container {\n",
              "      display:flex;\n",
              "      gap: 12px;\n",
              "    }\n",
              "\n",
              "    .colab-df-convert {\n",
              "      background-color: #E8F0FE;\n",
              "      border: none;\n",
              "      border-radius: 50%;\n",
              "      cursor: pointer;\n",
              "      display: none;\n",
              "      fill: #1967D2;\n",
              "      height: 32px;\n",
              "      padding: 0 0 0 0;\n",
              "      width: 32px;\n",
              "    }\n",
              "\n",
              "    .colab-df-convert:hover {\n",
              "      background-color: #E2EBFA;\n",
              "      box-shadow: 0px 1px 2px rgba(60, 64, 67, 0.3), 0px 1px 3px 1px rgba(60, 64, 67, 0.15);\n",
              "      fill: #174EA6;\n",
              "    }\n",
              "\n",
              "    .colab-df-buttons div {\n",
              "      margin-bottom: 4px;\n",
              "    }\n",
              "\n",
              "    [theme=dark] .colab-df-convert {\n",
              "      background-color: #3B4455;\n",
              "      fill: #D2E3FC;\n",
              "    }\n",
              "\n",
              "    [theme=dark] .colab-df-convert:hover {\n",
              "      background-color: #434B5C;\n",
              "      box-shadow: 0px 1px 3px 1px rgba(0, 0, 0, 0.15);\n",
              "      filter: drop-shadow(0px 1px 2px rgba(0, 0, 0, 0.3));\n",
              "      fill: #FFFFFF;\n",
              "    }\n",
              "  </style>\n",
              "\n",
              "    <script>\n",
              "      const buttonEl =\n",
              "        document.querySelector('#df-33e5750c-9a2c-48a5-bae3-938cfab0813b button.colab-df-convert');\n",
              "      buttonEl.style.display =\n",
              "        google.colab.kernel.accessAllowed ? 'block' : 'none';\n",
              "\n",
              "      async function convertToInteractive(key) {\n",
              "        const element = document.querySelector('#df-33e5750c-9a2c-48a5-bae3-938cfab0813b');\n",
              "        const dataTable =\n",
              "          await google.colab.kernel.invokeFunction('convertToInteractive',\n",
              "                                                    [key], {});\n",
              "        if (!dataTable) return;\n",
              "\n",
              "        const docLinkHtml = 'Like what you see? Visit the ' +\n",
              "          '<a target=\"_blank\" href=https://colab.research.google.com/notebooks/data_table.ipynb>data table notebook</a>'\n",
              "          + ' to learn more about interactive tables.';\n",
              "        element.innerHTML = '';\n",
              "        dataTable['output_type'] = 'display_data';\n",
              "        await google.colab.output.renderOutput(dataTable, element);\n",
              "        const docLink = document.createElement('div');\n",
              "        docLink.innerHTML = docLinkHtml;\n",
              "        element.appendChild(docLink);\n",
              "      }\n",
              "    </script>\n",
              "  </div>\n",
              "\n",
              "\n",
              "<div id=\"df-2c3ae157-f1fd-41c7-8b67-0c6d375cb190\">\n",
              "  <button class=\"colab-df-quickchart\" onclick=\"quickchart('df-2c3ae157-f1fd-41c7-8b67-0c6d375cb190')\"\n",
              "            title=\"Suggest charts\"\n",
              "            style=\"display:none;\">\n",
              "\n",
              "<svg xmlns=\"http://www.w3.org/2000/svg\" height=\"24px\"viewBox=\"0 0 24 24\"\n",
              "     width=\"24px\">\n",
              "    <g>\n",
              "        <path d=\"M19 3H5c-1.1 0-2 .9-2 2v14c0 1.1.9 2 2 2h14c1.1 0 2-.9 2-2V5c0-1.1-.9-2-2-2zM9 17H7v-7h2v7zm4 0h-2V7h2v10zm4 0h-2v-4h2v4z\"/>\n",
              "    </g>\n",
              "</svg>\n",
              "  </button>\n",
              "\n",
              "<style>\n",
              "  .colab-df-quickchart {\n",
              "      --bg-color: #E8F0FE;\n",
              "      --fill-color: #1967D2;\n",
              "      --hover-bg-color: #E2EBFA;\n",
              "      --hover-fill-color: #174EA6;\n",
              "      --disabled-fill-color: #AAA;\n",
              "      --disabled-bg-color: #DDD;\n",
              "  }\n",
              "\n",
              "  [theme=dark] .colab-df-quickchart {\n",
              "      --bg-color: #3B4455;\n",
              "      --fill-color: #D2E3FC;\n",
              "      --hover-bg-color: #434B5C;\n",
              "      --hover-fill-color: #FFFFFF;\n",
              "      --disabled-bg-color: #3B4455;\n",
              "      --disabled-fill-color: #666;\n",
              "  }\n",
              "\n",
              "  .colab-df-quickchart {\n",
              "    background-color: var(--bg-color);\n",
              "    border: none;\n",
              "    border-radius: 50%;\n",
              "    cursor: pointer;\n",
              "    display: none;\n",
              "    fill: var(--fill-color);\n",
              "    height: 32px;\n",
              "    padding: 0;\n",
              "    width: 32px;\n",
              "  }\n",
              "\n",
              "  .colab-df-quickchart:hover {\n",
              "    background-color: var(--hover-bg-color);\n",
              "    box-shadow: 0 1px 2px rgba(60, 64, 67, 0.3), 0 1px 3px 1px rgba(60, 64, 67, 0.15);\n",
              "    fill: var(--button-hover-fill-color);\n",
              "  }\n",
              "\n",
              "  .colab-df-quickchart-complete:disabled,\n",
              "  .colab-df-quickchart-complete:disabled:hover {\n",
              "    background-color: var(--disabled-bg-color);\n",
              "    fill: var(--disabled-fill-color);\n",
              "    box-shadow: none;\n",
              "  }\n",
              "\n",
              "  .colab-df-spinner {\n",
              "    border: 2px solid var(--fill-color);\n",
              "    border-color: transparent;\n",
              "    border-bottom-color: var(--fill-color);\n",
              "    animation:\n",
              "      spin 1s steps(1) infinite;\n",
              "  }\n",
              "\n",
              "  @keyframes spin {\n",
              "    0% {\n",
              "      border-color: transparent;\n",
              "      border-bottom-color: var(--fill-color);\n",
              "      border-left-color: var(--fill-color);\n",
              "    }\n",
              "    20% {\n",
              "      border-color: transparent;\n",
              "      border-left-color: var(--fill-color);\n",
              "      border-top-color: var(--fill-color);\n",
              "    }\n",
              "    30% {\n",
              "      border-color: transparent;\n",
              "      border-left-color: var(--fill-color);\n",
              "      border-top-color: var(--fill-color);\n",
              "      border-right-color: var(--fill-color);\n",
              "    }\n",
              "    40% {\n",
              "      border-color: transparent;\n",
              "      border-right-color: var(--fill-color);\n",
              "      border-top-color: var(--fill-color);\n",
              "    }\n",
              "    60% {\n",
              "      border-color: transparent;\n",
              "      border-right-color: var(--fill-color);\n",
              "    }\n",
              "    80% {\n",
              "      border-color: transparent;\n",
              "      border-right-color: var(--fill-color);\n",
              "      border-bottom-color: var(--fill-color);\n",
              "    }\n",
              "    90% {\n",
              "      border-color: transparent;\n",
              "      border-bottom-color: var(--fill-color);\n",
              "    }\n",
              "  }\n",
              "</style>\n",
              "\n",
              "  <script>\n",
              "    async function quickchart(key) {\n",
              "      const quickchartButtonEl =\n",
              "        document.querySelector('#' + key + ' button');\n",
              "      quickchartButtonEl.disabled = true;  // To prevent multiple clicks.\n",
              "      quickchartButtonEl.classList.add('colab-df-spinner');\n",
              "      try {\n",
              "        const charts = await google.colab.kernel.invokeFunction(\n",
              "            'suggestCharts', [key], {});\n",
              "      } catch (error) {\n",
              "        console.error('Error during call to suggestCharts:', error);\n",
              "      }\n",
              "      quickchartButtonEl.classList.remove('colab-df-spinner');\n",
              "      quickchartButtonEl.classList.add('colab-df-quickchart-complete');\n",
              "    }\n",
              "    (() => {\n",
              "      let quickchartButtonEl =\n",
              "        document.querySelector('#df-2c3ae157-f1fd-41c7-8b67-0c6d375cb190 button');\n",
              "      quickchartButtonEl.style.display =\n",
              "        google.colab.kernel.accessAllowed ? 'block' : 'none';\n",
              "    })();\n",
              "  </script>\n",
              "</div>\n",
              "\n",
              "    </div>\n",
              "  </div>\n"
            ],
            "application/vnd.google.colaboratory.intrinsic+json": {
              "type": "dataframe"
            }
          },
          "metadata": {},
          "execution_count": 31
        }
      ],
      "source": [
        "preg[preg.caseid==2298]"
      ]
    },
    {
      "cell_type": "markdown",
      "metadata": {
        "id": "tEApbi_k92-e"
      },
      "source": [
        "How old is the respondent with `caseid` 1?"
      ]
    },
    {
      "cell_type": "code",
      "execution_count": 32,
      "metadata": {
        "id": "EeQlkpIZ92-e",
        "outputId": "b775b2de-a626-48c5-a2c8-c2e3a34f013e",
        "colab": {
          "base_uri": "https://localhost:8080/"
        }
      },
      "outputs": [
        {
          "output_type": "execute_result",
          "data": {
            "text/plain": [
              "1069    44\n",
              "Name: age_a, dtype: int64"
            ]
          },
          "metadata": {},
          "execution_count": 32
        }
      ],
      "source": [
        "resp.age_a[resp.caseid == 1]"
      ]
    },
    {
      "cell_type": "markdown",
      "metadata": {
        "id": "94frAGaR92-e"
      },
      "source": [
        "What are the pregnancy lengths for the respondent with `caseid` 2298?"
      ]
    },
    {
      "cell_type": "code",
      "execution_count": 37,
      "metadata": {
        "id": "Ozb2edvd92-e",
        "outputId": "72900803-1e89-4028-ec93-5124fcc72b40",
        "colab": {
          "base_uri": "https://localhost:8080/"
        }
      },
      "outputs": [
        {
          "output_type": "execute_result",
          "data": {
            "text/plain": [
              "2610    2298\n",
              "2611    2298\n",
              "2612    2298\n",
              "2613    2298\n",
              "Name: caseid, dtype: int64"
            ]
          },
          "metadata": {},
          "execution_count": 37
        }
      ],
      "source": [
        "preg.prglngth[preg.caseid == 2298]\n",
        "# preg.caseid[preg.caseid == 2298]"
      ]
    },
    {
      "cell_type": "markdown",
      "metadata": {
        "id": "6-JF5rBx92-e"
      },
      "source": [
        "What was the birthweight of the first baby born to the respondent with `caseid` 5012?"
      ]
    },
    {
      "cell_type": "code",
      "execution_count": 41,
      "metadata": {
        "id": "nA1ogmzE92-e",
        "outputId": "2d9d9440-12a8-4b57-e2d0-7c07667bd8a7",
        "colab": {
          "base_uri": "https://localhost:8080/"
        }
      },
      "outputs": [
        {
          "output_type": "execute_result",
          "data": {
            "text/plain": [
              "5515    6.0\n",
              "Name: birthwgt_lb, dtype: float64"
            ]
          },
          "metadata": {},
          "execution_count": 41
        }
      ],
      "source": [
        "preg.birthwgt_lb[preg.caseid==5012]"
      ]
    },
    {
      "cell_type": "code",
      "execution_count": null,
      "metadata": {
        "id": "rMXp-Qnd92-e"
      },
      "outputs": [],
      "source": []
    }
  ],
  "metadata": {
    "kernelspec": {
      "display_name": "Python 3 (ipykernel)",
      "language": "python",
      "name": "python3"
    },
    "language_info": {
      "codemirror_mode": {
        "name": "ipython",
        "version": 3
      },
      "file_extension": ".py",
      "mimetype": "text/x-python",
      "name": "python",
      "nbconvert_exporter": "python",
      "pygments_lexer": "ipython3",
      "version": "3.10.8"
    },
    "colab": {
      "provenance": []
    }
  },
  "nbformat": 4,
  "nbformat_minor": 0
}